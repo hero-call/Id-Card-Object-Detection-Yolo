{
  "nbformat": 4,
  "nbformat_minor": 0,
  "metadata": {
    "colab": {
      "name": "Untitled4.ipynb",
      "provenance": [],
      "collapsed_sections": [],
      "include_colab_link": true
    },
    "kernelspec": {
      "name": "python3",
      "display_name": "Python 3"
    },
    "language_info": {
      "name": "python"
    },
    "accelerator": "GPU"
  },
  "cells": [
    {
      "cell_type": "markdown",
      "metadata": {
        "id": "view-in-github",
        "colab_type": "text"
      },
      "source": [
        "<a href=\"https://colab.research.google.com/github/ali-kmirzaei/YOLO/blob/main/train.YOLOv5.ipynb\" target=\"_parent\"><img src=\"https://colab.research.google.com/assets/colab-badge.svg\" alt=\"Open In Colab\"/></a>"
      ]
    },
    {
      "cell_type": "markdown",
      "source": [
        "# **Initialization:**"
      ],
      "metadata": {
        "id": "gw0YTipfgzP7"
      }
    },
    {
      "cell_type": "code",
      "execution_count": null,
      "metadata": {
        "id": "bfmBECvKub9t"
      },
      "outputs": [],
      "source": [
        "!git clone https://github.com/ultralytics/yolov5 "
      ]
    },
    {
      "cell_type": "code",
      "source": [
        "%cd yolov5\n",
        "!pip install -r requirements.txt "
      ],
      "metadata": {
        "id": "4CQClzLXuii0"
      },
      "execution_count": null,
      "outputs": []
    },
    {
      "cell_type": "code",
      "source": [
        "# import dataset from google drive\n",
        "from google.colab import drive\n",
        "drive.mount('/content/gdrive')\n",
        "!ln -s /content/gdrive/My\\ Drive/ /mydrive\n",
        "!ls /mydrive\n"
      ],
      "metadata": {
        "id": "BEjHphQWvYyl"
      },
      "execution_count": null,
      "outputs": []
    },
    {
      "cell_type": "code",
      "source": [
        "!cp -rf /mydrive/last.pt ../yolov5/weights.pt"
      ],
      "metadata": {
        "id": "BZU5zOw063N2"
      },
      "execution_count": null,
      "outputs": []
    },
    {
      "cell_type": "code",
      "source": [
        "!unzip /mydrive/newPack.zip -d data"
      ],
      "metadata": {
        "id": "TNq0YTXfxv3V"
      },
      "execution_count": null,
      "outputs": []
    },
    {
      "cell_type": "code",
      "source": [
        "!cp /mydrive/last.pt data/last_trained.pt"
      ],
      "metadata": {
        "id": "ulkzJoe9hVMt"
      },
      "execution_count": null,
      "outputs": []
    },
    {
      "cell_type": "code",
      "source": [
        "!unzip /mydrive/extra.zip -d data/images/extra_test"
      ],
      "metadata": {
        "id": "cMOJgJ9WK-L7"
      },
      "execution_count": null,
      "outputs": []
    },
    {
      "cell_type": "markdown",
      "source": [
        "# **split train and test files:**"
      ],
      "metadata": {
        "id": "9w1b9n3x0RnK"
      }
    },
    {
      "cell_type": "code",
      "source": [
        "import os\n",
        "import glob\n",
        "import random\n",
        "import shutil"
      ],
      "metadata": {
        "id": "E8tovU15y0nk"
      },
      "execution_count": null,
      "outputs": []
    },
    {
      "cell_type": "code",
      "source": [
        "!rm -rf data/images\n",
        "!rm -rf data/labels\n",
        "\n",
        "!mkdir data/images\n",
        "!mkdir data/images/test\n",
        "!mkdir data/images/train\n",
        "\n",
        "!mkdir data/labels\n",
        "!mkdir data/labels/test\n",
        "!mkdir data/labels/train"
      ],
      "metadata": {
        "id": "-3HGT9xnzUKJ"
      },
      "execution_count": null,
      "outputs": []
    },
    {
      "cell_type": "code",
      "source": [
        "image_list = list()\n",
        "label_list = list()\n",
        "total_tuples = list()\n",
        "\n",
        "total = glob.glob('data/newPack/*')\n",
        "total.sort()\n",
        "\n",
        "for i in range(0, len(total)-1, 2):\n",
        "  total_tuples.append((total[i], total[i+1]))\n",
        "\n",
        "# # validate list:\n",
        "# for tpl in total_tuples:\n",
        "#   if tpl[0][13: 23] != tpl[1][13: 23]:\n",
        "#     print(\"ERROR\")\n",
        "\n",
        "random.shuffle(total_tuples)\n",
        "\n",
        "num = 1085\n",
        "for i in range(num):\n",
        "  # IMG\n",
        "  src = total_tuples[i][0]\n",
        "  dst = 'data/images/train/'+src[13:]\n",
        "  shutil.copyfile(src, dst)\n",
        "  # LBL\n",
        "  src = total_tuples[i][1]\n",
        "  dst = 'data/labels/train/'+src[13:]\n",
        "  shutil.copyfile(src, dst)\n",
        "\n",
        "for i in range(num, 1550):\n",
        "  # IMG\n",
        "  src = total_tuples[i][0]\n",
        "  dst = 'data/images/test/'+src[13:]\n",
        "  shutil.copyfile(src, dst)\n",
        "  # LBL\n",
        "  src = total_tuples[i][1]\n",
        "  dst = 'data/labels/test/'+src[13:]\n",
        "  shutil.copyfile(src, dst)"
      ],
      "metadata": {
        "id": "khzKVfYvzRl3"
      },
      "execution_count": null,
      "outputs": []
    },
    {
      "cell_type": "code",
      "source": [
        "# Check Distributions\n",
        "\n",
        "alls = glob.glob('data/newPack/*.jpg')\n",
        "trains = glob.glob('data/images/train/*')\n",
        "tests = glob.glob('data/images/test/*')\n",
        "nums = ['1', '2', '3', '4', '5', '6', '7', '8', '9', '0']\n",
        "\n",
        "cnt = 0\n",
        "for all in alls:\n",
        "  if all[13] in nums:\n",
        "    cnt += 1\n",
        "all_per = 100 * cnt / len(alls)\n",
        "\n",
        "\n",
        "cnt = 0\n",
        "for test in tests:\n",
        "  if test[18] in nums:\n",
        "    cnt += 1\n",
        "test_per = 100 * cnt / len(tests)\n",
        "\n",
        "cnt = 0\n",
        "for train in trains:\n",
        "  if train[19] in nums:\n",
        "    cnt += 1\n",
        "train_per = 100 * cnt / len(trains)\n",
        "\n",
        "print(all_per, test_per, train_per)"
      ],
      "metadata": {
        "colab": {
          "base_uri": "https://localhost:8080/"
        },
        "id": "IoznwDy58d7q",
        "outputId": "f6d21ca0-969d-416e-9680-c47bd9efa564"
      },
      "execution_count": null,
      "outputs": [
        {
          "output_type": "stream",
          "name": "stdout",
          "text": [
            "58.064516129032256 57.204301075268816 58.433179723502306\n"
          ]
        }
      ]
    },
    {
      "cell_type": "markdown",
      "source": [
        "# **train and test and visualization model:**"
      ],
      "metadata": {
        "id": "r0Q2-Iosg_Ac"
      }
    },
    {
      "cell_type": "code",
      "source": [
        "!rm -rf runs/train/yolo_idcard32"
      ],
      "metadata": {
        "id": "-4VqyYWdEk2h"
      },
      "execution_count": null,
      "outputs": []
    },
    {
      "cell_type": "code",
      "source": [
        "# TRAIN\n",
        "!python train.py --img 640 --cfg data/yolov5s.yaml --batch 64 --epochs 100 --data idcard_data.yaml --weights yolov5s.pt --name yolo_idcard3 --cache"
      ],
      "metadata": {
        "id": "v8BZPi6U1TFK"
      },
      "execution_count": null,
      "outputs": []
    },
    {
      "cell_type": "code",
      "source": [
        "# Free Space!"
      ],
      "metadata": {
        "id": "JjJkQezAkuVb"
      },
      "execution_count": null,
      "outputs": []
    },
    {
      "cell_type": "code",
      "source": [
        "# TEST\n",
        "!python val.py --data idcard_data.yaml --weights runs/train/yolo_idcard35/weights/last.pt --name yolo_idcard3 --task val"
      ],
      "metadata": {
        "id": "-Ing7O836Vus"
      },
      "execution_count": null,
      "outputs": []
    },
    {
      "cell_type": "code",
      "source": [
        "# Visualize\n",
        "from utils.plots import plot_results\n",
        "plot_results('results.csv')"
      ],
      "metadata": {
        "id": "ry3ZkklLOjRy"
      },
      "execution_count": null,
      "outputs": []
    },
    {
      "cell_type": "code",
      "source": [
        "# DETECT\n",
        "\n",
        "# import timeit\n",
        "# start = timeit.default_timer()\n",
        "\n",
        "!python detect.py --source 02.jpeg --weights weights_last.pt --name idcard_detect\n",
        "\n",
        "# stop = timeit.default_timer()\n",
        "# print('Time: ', stop - start)"
      ],
      "metadata": {
        "id": "Wd_bqmN2OqQo"
      },
      "execution_count": null,
      "outputs": []
    },
    {
      "cell_type": "code",
      "source": [
        "!cp -r runs/detect/ /mydrive/YOLOv5Performance/new_detect"
      ],
      "metadata": {
        "id": "xKX0PqEXI4qC"
      },
      "execution_count": null,
      "outputs": []
    },
    {
      "cell_type": "code",
      "source": [
        "!mkdir /mydrive/YOLOv5Performance/200e/val"
      ],
      "metadata": {
        "id": "u-gmHUUBZWL0"
      },
      "execution_count": null,
      "outputs": []
    },
    {
      "cell_type": "code",
      "source": [
        "!rm -rf runs/detect/yolo_idcard_extra2"
      ],
      "metadata": {
        "id": "L_WQ4qclZ-Ut"
      },
      "execution_count": null,
      "outputs": []
    },
    {
      "cell_type": "code",
      "source": [
        ""
      ],
      "metadata": {
        "id": "Aa4hT09BjkIp"
      },
      "execution_count": null,
      "outputs": []
    },
    {
      "cell_type": "markdown",
      "source": [
        "# **OCR:**"
      ],
      "metadata": {
        "id": "c4wn0hS1Id_f"
      }
    },
    {
      "cell_type": "code",
      "source": [
        "!pip uninstall imgaug"
      ],
      "metadata": {
        "id": "IDX_ug554fHx"
      },
      "execution_count": null,
      "outputs": []
    },
    {
      "cell_type": "code",
      "source": [
        "!pip install pytesseract"
      ],
      "metadata": {
        "id": "jnLGe1e14SHT"
      },
      "execution_count": null,
      "outputs": []
    },
    {
      "cell_type": "code",
      "source": [
        "!sudo apt-get install tesseract-ocr-fas"
      ],
      "metadata": {
        "id": "DJD9fUozLwXS"
      },
      "execution_count": null,
      "outputs": []
    },
    {
      "cell_type": "code",
      "source": [
        "from PIL import Image\n",
        "import pytesseract\n",
        "import cv2 as cv\n",
        "import numpy as np\n",
        "from matplotlib import pyplot as plt\n",
        "np.set_printoptions(threshold=np.inf)"
      ],
      "metadata": {
        "id": "hZvSa0wmIskC"
      },
      "execution_count": null,
      "outputs": []
    },
    {
      "cell_type": "code",
      "source": [
        "IMG = Image.open('id.jpg')\n",
        "# IMG.save(\"id2.jpg\", dpi=(300,300))\n",
        "# IMG = Image.open('id.jpg')\n",
        "# IMG = cv.cvtColor(IMG, cv.COLOR_RGB2BGR)\n",
        "# IMG = IMG.convert(\"0\")\n",
        "# IMG = cv.imread('id.jpg', cv.IMREAD_GRAYSCALE)\n",
        "LANG = \"fas\"\n",
        "CONFIG = \"--psm 11 --oem 3\"\n",
        "print(pytesseract.image_to_string(IMG, lang=LANG))\n",
        "IMG"
      ],
      "metadata": {
        "id": "WJEEc9fqIhTz"
      },
      "execution_count": null,
      "outputs": []
    }
  ]
}